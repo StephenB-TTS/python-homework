{
 "cells": [
  {
   "cell_type": "code",
   "execution_count": 239,
   "metadata": {},
   "outputs": [],
   "source": [
    "# Import the pathlib and csv library\n",
    "from pathlib import Path\n",
    "import csv\n",
    "\n",
    "# Set the file path\n",
    "csvpath = Path('../budget_data.csv')"
   ]
  },
  {
   "cell_type": "code",
   "execution_count": 240,
   "metadata": {},
   "outputs": [],
   "source": [
    "# Initialize variables\n",
    "total_months = 0\n",
    "total_profit_losses = 0\n",
    "profit_losses = 867884\n",
    "prev_profit_losses = 0\n",
    "change_in_profit_losses = 0\n",
    "total_change_in_profit_losses = 0\n",
    "profit_max = 0\n",
    "losses_max = 0"
   ]
  },
  {
   "cell_type": "code",
   "execution_count": 241,
   "metadata": {},
   "outputs": [],
   "source": [
    "# Open the csv file as an object\n",
    "with open(csvpath, \"r\") as csvfile:\n",
    "\n",
    "    # Pass in the csv file to the csv.reader() function\n",
    "    # (with ',' as the delmiter/separator) and return the csvreader object\n",
    "    csvreader = csv.reader(csvfile, delimiter=\",\")\n",
    "\n",
    "    # Read the header row first (skip this step if there is no header)\n",
    "    csv_header = next(csvreader)  \n",
    "\n",
    "    # Read each row of data after the header\n",
    "    for row in csvreader:\n",
    "        \n",
    "        total_months += 1   #iterates total\n",
    "        prev_profit_losses = profit_losses   #captures profit_losses from previous row \n",
    "        profit_losses = int(row[1])  #sets row[1] to integer and assigns variable\n",
    "        total_profit_losses += profit_losses   #iterates total profits/losses\n",
    "        \n",
    "        if total_months > 1: #Excludes 1st month for calculation since we need \"change\"\n",
    "            change_in_profit_losses = profit_losses - prev_profit_losses  #change equals current - previous     \n",
    "            total_change_in_profit_losses += change_in_profit_losses   #iterates change in profits/losses\n",
    "            #print (total_profit_losses, profit_losses, change_in_profit_losses, prev_profit_losses, profit_max, losses_max)\n",
    "            \n",
    "            if change_in_profit_losses > profit_max:\n",
    "                profit_max = change_in_profit_losses #updates profit_max \n",
    "                max_profit_date = row[0] #extracts max profit date from column 0\n",
    "            elif change_in_profit_losses < losses_max:\n",
    "                losses_max = change_in_profit_losses #updates losses_max\n",
    "                max_loss_date = row[0] #extracts max loss date from column 0"
   ]
  },
  {
   "cell_type": "code",
   "execution_count": 242,
   "metadata": {},
   "outputs": [
    {
     "name": "stdout",
     "output_type": "stream",
     "text": [
      "Total Months: 86\n"
     ]
    }
   ],
   "source": [
    "#The total number of months included in the dataset.\n",
    "print(f\"Total Months: {total_months}\")     "
   ]
  },
  {
   "cell_type": "code",
   "execution_count": 243,
   "metadata": {},
   "outputs": [
    {
     "name": "stdout",
     "output_type": "stream",
     "text": [
      "Total: $38382578\n"
     ]
    }
   ],
   "source": [
    "#The net total amount of Profit/Losses over the entire period.\n",
    "print(f\"Total: ${total_profit_losses}\")"
   ]
  },
  {
   "cell_type": "code",
   "execution_count": 244,
   "metadata": {},
   "outputs": [
    {
     "name": "stdout",
     "output_type": "stream",
     "text": [
      "Average Change: $ -2315.12\n"
     ]
    }
   ],
   "source": [
    "#The average of the changes in Profit/Losses over the entire period.\n",
    "print(f\"Average Change: $ {round (total_change_in_profit_losses / (total_months - 1), 2)}\")"
   ]
  },
  {
   "cell_type": "code",
   "execution_count": 245,
   "metadata": {},
   "outputs": [
    {
     "name": "stdout",
     "output_type": "stream",
     "text": [
      "Greatest Increase in Profits: Feb-2012 ($1926159)\n"
     ]
    }
   ],
   "source": [
    "#The greatest increase in profits (date and amount) over the entire period.\n",
    "print(f\"Greatest Increase in Profits: {max_profit_date} (${profit_max})\")"
   ]
  },
  {
   "cell_type": "code",
   "execution_count": 246,
   "metadata": {},
   "outputs": [
    {
     "name": "stdout",
     "output_type": "stream",
     "text": [
      "Greatest Decrease in Profits: Sep-2013 ($-2196167)\n"
     ]
    }
   ],
   "source": [
    "#The greatest decrease in losses (date and amount) over the entire period.\n",
    "print(f\"Greatest Decrease in Profits: {max_loss_date} (${losses_max})\")"
   ]
  },
  {
   "cell_type": "code",
   "execution_count": 247,
   "metadata": {},
   "outputs": [],
   "source": [
    "# output to a text file\n",
    "\n",
    "file = open(\"output.txt\",\"w\")\n",
    "\n",
    "file.write(\"Financial Analysis\" + \"\\n\")\n",
    "\n",
    "file.write(\"----------------------------\" + \"\\n\")\n",
    "\n",
    "file.write((f\"Total Months: {total_months}\") + \"\\n\")\n",
    "\n",
    "file.write((f\"Total: ${total_profit_losses}\") + \"\\n\")\n",
    "\n",
    "file.write((f\"Average Change: $ {round (total_change_in_profit_losses / (total_months - 1), 2)}\") + \"\\n\")\n",
    "\n",
    "file.write((f\"Greatest Increase in Profits: {max_profit_date} (${profit_max})\") + \"\\n\")\n",
    "\n",
    "file.write((f\"Greatest Decrease in Profits: {max_loss_date} (${losses_max})\") + \"\\n\")\n",
    "\n",
    "file.close()\n"
   ]
  }
 ],
 "metadata": {
  "kernelspec": {
   "display_name": "Python 3",
   "language": "python",
   "name": "python3"
  },
  "language_info": {
   "codemirror_mode": {
    "name": "ipython",
    "version": 3
   },
   "file_extension": ".py",
   "mimetype": "text/x-python",
   "name": "python",
   "nbconvert_exporter": "python",
   "pygments_lexer": "ipython3",
   "version": "3.8.3"
  }
 },
 "nbformat": 4,
 "nbformat_minor": 4
}
